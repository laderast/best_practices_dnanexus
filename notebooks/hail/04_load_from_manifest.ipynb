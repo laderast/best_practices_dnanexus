{
 "cells": [
  {
   "cell_type": "markdown",
   "id": "8fa12f66-e91b-4906-a28b-cf8bb547ff5b",
   "metadata": {},
   "source": [
    "# Loading in BGEN files with Index Files\n",
    "\n",
    "This notebook shows you how to load the BGEN files directly after the Hail Index files have been created (see previous notebook).\n",
    "\n",
    "We assume:\n",
    "\n",
    "- You have created your index files and they are in Project Storage (here in `/user/tladeras/index/`)\n",
    "- You have created a file manifest that maps BGEN file locations in Bulk to the index file locations\n",
    "\n",
    "Like always, we initialize Hail:"
   ]
  },
  {
   "cell_type": "code",
   "execution_count": 1,
   "id": "222da9dc-f406-49fc-a35f-e902a9495980",
   "metadata": {
    "tags": []
   },
   "outputs": [
    {
     "name": "stderr",
     "output_type": "stream",
     "text": [
      "SLF4J: Class path contains multiple SLF4J bindings.\n",
      "SLF4J: Found binding in [jar:file:/cluster/dnax/jars/dnanexus-api-0.1.0-SNAPSHOT-jar-with-dependencies.jar!/org/slf4j/impl/StaticLoggerBinder.class]\n",
      "SLF4J: Found binding in [jar:file:/cluster/spark/jars/log4j-slf4j-impl-2.17.2.jar!/org/slf4j/impl/StaticLoggerBinder.class]\n",
      "SLF4J: See http://www.slf4j.org/codes.html#multiple_bindings for an explanation.\n",
      "SLF4J: Actual binding is of type [org.slf4j.impl.Log4jLoggerFactory]\n"
     ]
    },
    {
     "name": "stdout",
     "output_type": "stream",
     "text": [
      "2023-05-03 15:16:53.745 WARN  NativeCodeLoader:60 - Unable to load native-hadoop library for your platform... using builtin-java classes where applicable\n",
      "2023-05-03 15:16:53.925 WARN  MetricsReporter:84 - No metrics configured for reporting\n",
      "2023-05-03 15:16:53.927 WARN  LineProtoUsageReporter:48 - Telegraf configurations: url [metrics.push.telegraf.hostport], user [metrics.push.telegraf.user] or password [metrics.push.telegraf.password] missing.\n",
      "2023-05-03 15:16:53.927 WARN  MetricsReporter:117 - metrics.scraping.httpserver.port\n"
     ]
    },
    {
     "name": "stderr",
     "output_type": "stream",
     "text": [
      "Setting default log level to \"WARN\".\n",
      "To adjust logging level use sc.setLogLevel(newLevel). For SparkR, use setLogLevel(newLevel).\n"
     ]
    },
    {
     "name": "stdout",
     "output_type": "stream",
     "text": [
      "2023-05-03 15:16:55.506 WARN  Utils:69 - Service 'org.apache.spark.network.netty.NettyBlockTransferService' could not bind on port 43000. Attempting port 43001.\n"
     ]
    },
    {
     "name": "stderr",
     "output_type": "stream",
     "text": [
      "pip-installed Hail requires additional configuration options in Spark referring\n",
      "  to the path to the Hail Python module directory HAIL_DIR,\n",
      "  e.g. /path/to/python/site-packages/hail:\n",
      "    spark.jars=HAIL_DIR/backend/hail-all-spark.jar\n",
      "    spark.driver.extraClassPath=HAIL_DIR/backend/hail-all-spark.jar\n",
      "    spark.executor.extraClassPath=./hail-all-spark.jarRunning on Apache Spark version 3.2.0\n",
      "SparkUI available at http://ip-10-60-179-41.eu-west-2.compute.internal:8081\n",
      "Welcome to\n",
      "     __  __     <>__\n",
      "    / /_/ /__  __/ /\n",
      "   / __  / _ `/ / /\n",
      "  /_/ /_/\\_,_/_/_/   version 0.2.108-48fb3a9bae04\n",
      "LOGGING: writing to /home/dnanexus/hail-20230503-1516-0.2.108-48fb3a9bae04.log\n"
     ]
    }
   ],
   "source": [
    "from pyspark.sql import SparkSession\n",
    "import hail as hl\n",
    "import hail.expr.aggregators as agg\n",
    "import os\n",
    "\n",
    "builder = (\n",
    "    SparkSession\n",
    "    .builder\n",
    "    .enableHiveSupport()\n",
    "    .config(\"spark.shuffle.mapStatus.compression.codec\", \"lz4\") \n",
    ")\n",
    "spark = builder.getOrCreate()\n",
    "hl.init(sc=spark.sparkContext)"
   ]
  },
  {
   "cell_type": "markdown",
   "id": "78c574db-1e98-4f8f-b8b4-9073a16f27ad",
   "metadata": {},
   "source": [
    "Now we can load in our file manifest so that we can map our BGEN files to our created Index files. Here we assume that the manifest is in `/user/tladeras/`."
   ]
  },
  {
   "cell_type": "code",
   "execution_count": 5,
   "id": "b6eb463d-b387-4542-ba17-de38d48b4a2a",
   "metadata": {
    "tags": []
   },
   "outputs": [
    {
     "data": {
      "text/html": [
       "<div>\n",
       "<style scoped>\n",
       "    .dataframe tbody tr th:only-of-type {\n",
       "        vertical-align: middle;\n",
       "    }\n",
       "\n",
       "    .dataframe tbody tr th {\n",
       "        vertical-align: top;\n",
       "    }\n",
       "\n",
       "    .dataframe thead th {\n",
       "        text-align: right;\n",
       "    }\n",
       "</style>\n",
       "<table border=\"1\" class=\"dataframe\">\n",
       "  <thead>\n",
       "    <tr style=\"text-align: right;\">\n",
       "      <th></th>\n",
       "      <th>Unnamed: 0</th>\n",
       "      <th>bgen</th>\n",
       "      <th>sample</th>\n",
       "      <th>index</th>\n",
       "      <th>hdfs</th>\n",
       "      <th>index_ps</th>\n",
       "    </tr>\n",
       "  </thead>\n",
       "  <tbody>\n",
       "    <tr>\n",
       "      <th>0</th>\n",
       "      <td>1</td>\n",
       "      <td>file:///mnt/project//Bulk/Exome sequences/Popu...</td>\n",
       "      <td>file:///mnt/project//Bulk/Exome sequences/Popu...</td>\n",
       "      <td>ukb23159_c11_b0_v1.bgen</td>\n",
       "      <td>hdfs:///index/ukb23159_c11_b0_v1.bgen.idx2</td>\n",
       "      <td>file:///mnt/project/user/tladeras/index/ukb231...</td>\n",
       "    </tr>\n",
       "    <tr>\n",
       "      <th>1</th>\n",
       "      <td>2</td>\n",
       "      <td>file:///mnt/project//Bulk/Exome sequences/Popu...</td>\n",
       "      <td>file:///mnt/project//Bulk/Exome sequences/Popu...</td>\n",
       "      <td>ukb23159_c1_b0_v1.bgen</td>\n",
       "      <td>hdfs:///index/ukb23159_c1_b0_v1.bgen.idx2</td>\n",
       "      <td>file:///mnt/project/user/tladeras/index/ukb231...</td>\n",
       "    </tr>\n",
       "    <tr>\n",
       "      <th>2</th>\n",
       "      <td>3</td>\n",
       "      <td>file:///mnt/project//Bulk/Exome sequences/Popu...</td>\n",
       "      <td>file:///mnt/project//Bulk/Exome sequences/Popu...</td>\n",
       "      <td>ukb23159_c4_b0_v1.bgen</td>\n",
       "      <td>hdfs:///index/ukb23159_c4_b0_v1.bgen.idx2</td>\n",
       "      <td>file:///mnt/project/user/tladeras/index/ukb231...</td>\n",
       "    </tr>\n",
       "    <tr>\n",
       "      <th>3</th>\n",
       "      <td>4</td>\n",
       "      <td>file:///mnt/project//Bulk/Exome sequences/Popu...</td>\n",
       "      <td>file:///mnt/project//Bulk/Exome sequences/Popu...</td>\n",
       "      <td>ukb23159_c16_b0_v1.bgen</td>\n",
       "      <td>hdfs:///index/ukb23159_c16_b0_v1.bgen.idx2</td>\n",
       "      <td>file:///mnt/project/user/tladeras/index/ukb231...</td>\n",
       "    </tr>\n",
       "  </tbody>\n",
       "</table>\n",
       "</div>"
      ],
      "text/plain": [
       "   Unnamed: 0                                               bgen  \\\n",
       "0           1  file:///mnt/project//Bulk/Exome sequences/Popu...   \n",
       "1           2  file:///mnt/project//Bulk/Exome sequences/Popu...   \n",
       "2           3  file:///mnt/project//Bulk/Exome sequences/Popu...   \n",
       "3           4  file:///mnt/project//Bulk/Exome sequences/Popu...   \n",
       "\n",
       "                                              sample                    index  \\\n",
       "0  file:///mnt/project//Bulk/Exome sequences/Popu...  ukb23159_c11_b0_v1.bgen   \n",
       "1  file:///mnt/project//Bulk/Exome sequences/Popu...   ukb23159_c1_b0_v1.bgen   \n",
       "2  file:///mnt/project//Bulk/Exome sequences/Popu...   ukb23159_c4_b0_v1.bgen   \n",
       "3  file:///mnt/project//Bulk/Exome sequences/Popu...  ukb23159_c16_b0_v1.bgen   \n",
       "\n",
       "                                         hdfs  \\\n",
       "0  hdfs:///index/ukb23159_c11_b0_v1.bgen.idx2   \n",
       "1   hdfs:///index/ukb23159_c1_b0_v1.bgen.idx2   \n",
       "2   hdfs:///index/ukb23159_c4_b0_v1.bgen.idx2   \n",
       "3  hdfs:///index/ukb23159_c16_b0_v1.bgen.idx2   \n",
       "\n",
       "                                            index_ps  \n",
       "0  file:///mnt/project/user/tladeras/index/ukb231...  \n",
       "1  file:///mnt/project/user/tladeras/index/ukb231...  \n",
       "2  file:///mnt/project/user/tladeras/index/ukb231...  \n",
       "3  file:///mnt/project/user/tladeras/index/ukb231...  "
      ]
     },
     "execution_count": 5,
     "metadata": {},
     "output_type": "execute_result"
    }
   ],
   "source": [
    "import dxpy, os\n",
    "#import hail as hl\n",
    "import pandas as pd\n",
    "testing = True\n",
    "project_dir = \"/user/tladeras/\"\n",
    "\n",
    "manifest = pd.read_csv(f\"file:///mnt/project\" + project_dir + \"bgen_manifest.csv\")\n",
    "manifest"
   ]
  },
  {
   "cell_type": "markdown",
   "id": "974f6145-7255-4940-9ca5-3b11e9fdfd65",
   "metadata": {},
   "source": [
    "We'll recreate the mapping by cycling through our manifest row by row. Similarly, we extract the file list from the manifest. We only need one `.sample` file since they are identical (and `hl.load_bgen()` only takes a single sample file."
   ]
  },
  {
   "cell_type": "code",
   "execution_count": 6,
   "id": "8d3755a0-0011-4891-93b5-34e146138e41",
   "metadata": {
    "tags": []
   },
   "outputs": [
    {
     "data": {
      "text/plain": [
       "{'file:///mnt/project//Bulk/Exome sequences/Population level exome OQFE variants, BGEN format - final release/ukb23159_c11_b0_v1.bgen': 'file:///mnt/project/user/tladeras/index/ukb23159_c11_b0_v1.bgen.idx2',\n",
       " 'file:///mnt/project//Bulk/Exome sequences/Population level exome OQFE variants, BGEN format - final release/ukb23159_c1_b0_v1.bgen': 'file:///mnt/project/user/tladeras/index/ukb23159_c1_b0_v1.bgen.idx2',\n",
       " 'file:///mnt/project//Bulk/Exome sequences/Population level exome OQFE variants, BGEN format - final release/ukb23159_c4_b0_v1.bgen': 'file:///mnt/project/user/tladeras/index/ukb23159_c4_b0_v1.bgen.idx2',\n",
       " 'file:///mnt/project//Bulk/Exome sequences/Population level exome OQFE variants, BGEN format - final release/ukb23159_c16_b0_v1.bgen': 'file:///mnt/project/user/tladeras/index/ukb23159_c16_b0_v1.bgen.idx2'}"
      ]
     },
     "execution_count": 6,
     "metadata": {},
     "output_type": "execute_result"
    }
   ],
   "source": [
    "map_dict = {f\"\" + row[\"bgen\"]:f\"\" + row[\"index_ps\"] for i, row in manifest.iterrows()}\n",
    "map_dict\n"
   ]
  },
  {
   "cell_type": "code",
   "execution_count": 8,
   "id": "203ecc99-d068-4583-9b80-7a47576a002e",
   "metadata": {
    "tags": []
   },
   "outputs": [
    {
     "data": {
      "text/plain": [
       "'file:///mnt/project//Bulk/Exome sequences/Population level exome OQFE variants, BGEN format - final release/ukb23159_c11_b0_v1.sample'"
      ]
     },
     "execution_count": 8,
     "metadata": {},
     "output_type": "execute_result"
    }
   ],
   "source": [
    "file_list = manifest[\"bgen\"].tolist()\n",
    "file_list\n",
    "\n",
    "sample_list = manifest[\"sample\"].tolist()[0]\n",
    "sample_list"
   ]
  },
  {
   "cell_type": "markdown",
   "id": "ce0c1786-b0df-4681-84de-8fb5598566b1",
   "metadata": {},
   "source": [
    "Now that our inputs are set up, we can now load in our BGEN files and do a `mt.count()` and whatever other filtering/QC/GWAS that we need to do."
   ]
  },
  {
   "cell_type": "code",
   "execution_count": 9,
   "id": "3878ea3f-ca40-496c-81c7-5447da39bb85",
   "metadata": {
    "tags": []
   },
   "outputs": [
    {
     "name": "stderr",
     "output_type": "stream",
     "text": [
      "2023-05-03 15:21:51.558 Hail: INFO: Number of BGEN files parsed: 4\n",
      "2023-05-03 15:21:51.559 Hail: INFO: Number of samples in BGEN files: 469835\n",
      "2023-05-03 15:21:51.559 Hail: INFO: Number of variants across all BGEN files: 6666112\n"
     ]
    }
   ],
   "source": [
    "#build index file dictionary    \n",
    "\n",
    "#finally, import all bgen files\n",
    "mt = hl.import_bgen(file_list,\n",
    "                    entry_fields=['GT', 'GP'],\n",
    "                    sample_file = sample_list,\n",
    "                    n_partitions=None,\n",
    "                    block_size=None,\n",
    "                    variants=None,\n",
    "                    index_file_map = map_dict)"
   ]
  },
  {
   "cell_type": "code",
   "execution_count": 10,
   "id": "b6ab3e0f-6f11-4747-b882-9fa767786776",
   "metadata": {
    "tags": []
   },
   "outputs": [
    {
     "data": {
      "text/plain": [
       "(6666112, 469835)"
      ]
     },
     "execution_count": 10,
     "metadata": {},
     "output_type": "execute_result"
    }
   ],
   "source": [
    "mt.count()"
   ]
  },
  {
   "cell_type": "code",
   "execution_count": null,
   "id": "9344a0bf-b64e-411a-ab6c-1cf2186296dc",
   "metadata": {},
   "outputs": [],
   "source": []
  }
 ],
 "metadata": {
  "kernelspec": {
   "display_name": "Python 3 (ipykernel)",
   "language": "python",
   "name": "python3"
  },
  "language_info": {
   "codemirror_mode": {
    "name": "ipython",
    "version": 3
   },
   "file_extension": ".py",
   "mimetype": "text/x-python",
   "name": "python",
   "nbconvert_exporter": "python",
   "pygments_lexer": "ipython3",
   "version": "3.8.10"
  }
 },
 "nbformat": 4,
 "nbformat_minor": 5
}
