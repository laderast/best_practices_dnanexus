{
 "cells": [
  {
   "cell_type": "markdown",
   "id": "03612759-35f5-4519-b777-ef7916f88236",
   "metadata": {},
   "source": [
    "# UKB RAP: From BGEN File to Hail MatrixTable\n",
    "\n",
    "This notebook shows how to load the BGEN files from UKB RAP using the latest version of Hail. Note that the current JupyterLab instance is one version behind. We used this community-developed app from the Lindren Lab to run this: https://github.com/lindgrengroup/hail-on-dnanexus\n",
    "\n",
    "First, we initialize Hail. Note that the BGEN files are lz4 compressed, so we have to specify that in our Spark Context."
   ]
  },
  {
   "cell_type": "code",
   "execution_count": 1,
   "id": "89e04e16-30d0-4858-b11a-507cf1a18349",
   "metadata": {
    "tags": []
   },
   "outputs": [
    {
     "name": "stderr",
     "output_type": "stream",
     "text": [
      "SLF4J: Class path contains multiple SLF4J bindings.\n",
      "SLF4J: Found binding in [jar:file:/cluster/dnax/jars/dnanexus-api-0.1.0-SNAPSHOT-jar-with-dependencies.jar!/org/slf4j/impl/StaticLoggerBinder.class]\n",
      "SLF4J: Found binding in [jar:file:/cluster/spark/jars/log4j-slf4j-impl-2.17.2.jar!/org/slf4j/impl/StaticLoggerBinder.class]\n",
      "SLF4J: See http://www.slf4j.org/codes.html#multiple_bindings for an explanation.\n",
      "SLF4J: Actual binding is of type [org.slf4j.impl.Log4jLoggerFactory]\n"
     ]
    },
    {
     "name": "stdout",
     "output_type": "stream",
     "text": [
      "2023-05-02 21:59:44.107 WARN  NativeCodeLoader:60 - Unable to load native-hadoop library for your platform... using builtin-java classes where applicable\n",
      "2023-05-02 21:59:44.276 WARN  MetricsReporter:84 - No metrics configured for reporting\n",
      "2023-05-02 21:59:44.278 WARN  LineProtoUsageReporter:48 - Telegraf configurations: url [metrics.push.telegraf.hostport], user [metrics.push.telegraf.user] or password [metrics.push.telegraf.password] missing.\n",
      "2023-05-02 21:59:44.278 WARN  MetricsReporter:117 - metrics.scraping.httpserver.port\n"
     ]
    },
    {
     "name": "stderr",
     "output_type": "stream",
     "text": [
      "Setting default log level to \"WARN\".\n",
      "To adjust logging level use sc.setLogLevel(newLevel). For SparkR, use setLogLevel(newLevel).\n"
     ]
    },
    {
     "name": "stdout",
     "output_type": "stream",
     "text": [
      "2023-05-02 21:59:45.945 WARN  Utils:69 - Service 'org.apache.spark.network.netty.NettyBlockTransferService' could not bind on port 43000. Attempting port 43001.\n"
     ]
    },
    {
     "name": "stderr",
     "output_type": "stream",
     "text": [
      "pip-installed Hail requires additional configuration options in Spark referring\n",
      "  to the path to the Hail Python module directory HAIL_DIR,\n",
      "  e.g. /path/to/python/site-packages/hail:\n",
      "    spark.jars=HAIL_DIR/backend/hail-all-spark.jar\n",
      "    spark.driver.extraClassPath=HAIL_DIR/backend/hail-all-spark.jar\n",
      "    spark.executor.extraClassPath=./hail-all-spark.jarRunning on Apache Spark version 3.2.0\n",
      "SparkUI available at http://ip-10-60-167-53.eu-west-2.compute.internal:8081\n",
      "Welcome to\n",
      "     __  __     <>__\n",
      "    / /_/ /__  __/ /\n",
      "   / __  / _ `/ / /\n",
      "  /_/ /_/\\_,_/_/_/   version 0.2.108-48fb3a9bae04\n",
      "LOGGING: writing to /home/dnanexus/hail-20230502-2159-0.2.108-48fb3a9bae04.log\n"
     ]
    }
   ],
   "source": [
    "from pyspark.sql import SparkSession\n",
    "import hail as hl\n",
    "import hail.expr.aggregators as agg\n",
    "import os\n",
    "\n",
    "builder = (\n",
    "    SparkSession\n",
    "    .builder\n",
    "    .enableHiveSupport()\n",
    "    .config(\"spark.shuffle.mapStatus.compression.codec\", \"lz4\") \n",
    ")\n",
    "spark = builder.getOrCreate()\n",
    "hl.init(sc=spark.sparkContext)"
   ]
  },
  {
   "cell_type": "markdown",
   "id": "0e0009fb-224c-4bc6-881f-0769ae9d66b8",
   "metadata": {},
   "source": [
    "Next, we'll find the files associated with field id 23159. This field corresponds to the Whole Exome Sequencing files in the BGEN format.\n",
    "\n",
    "We first find the file ids using `dxpy.find_data_objects()`. \n",
    "\n",
    "Then we can do a `dx describe` on each of the file ids to get the relevant file information for each file, namely the file name and the folder path."
   ]
  },
  {
   "cell_type": "code",
   "execution_count": 1,
   "id": "be55db99-93dd-4409-a27a-8783b0b1dffb",
   "metadata": {
    "tags": []
   },
   "outputs": [],
   "source": [
    "import dxpy, os\n",
    "#import hail as hl\n",
    "import pandas as pd\n",
    "testing = True\n",
    "project_dir = \"/user/tladeras/\"\n",
    "\n",
    "field_id = \"23159\"\n",
    "\n",
    "obj_gen = dxpy.find_data_objects(properties={\"field_id\":field_id}, name=\"*.bgen\", name_mode=\"glob\")\n",
    "\n",
    "id_list = [a[\"id\"] for a in obj_gen]\n",
    "\n",
    "# Grab describe objects for every file id\n",
    "out_describe = [dxpy.bindings.dxdataobject_functions.describe(id) for id in id_list]"
   ]
  },
  {
   "cell_type": "markdown",
   "id": "f2d716b9",
   "metadata": {},
   "source": [
    "Then we'll build a list of file paths using dxFUSE paths. Then we'll process and build the file paths for the index, the file name, and the sample file locations. \n",
    "\n",
    "We only will use one of the sample file locations, since all of them are identical."
   ]
  },
  {
   "cell_type": "code",
   "execution_count": 2,
   "id": "fc559ac6-0d84-4bd3-ab75-a42dc9288d36",
   "metadata": {
    "tags": []
   },
   "outputs": [],
   "source": [
    "#make a list of file paths with /mnt/project prepended and using only basename of file\n",
    "dxfuse_list = [f\"file:///mnt/project/\" +  desc[\"folder\"] + \"/\" + os.path.splitext(desc[\"name\"])[0] for desc in out_describe]\n",
    "\n",
    "#grab file name\n",
    "index_list = [f\"\" + desc[\"name\"] for desc in out_describe]\n",
    "#make list of hdfs locations for index\n",
    "hdfs_list = [f\"hdfs:///\" + \"index/\" + desc[\"name\"] + \".idx2\" for desc in out_describe]\n",
    "#make list of bgen locations in project storage\n",
    "bgen_list = [dx + \".bgen\" for dx in dxfuse_list]\n",
    "#make list of sample locations in project storage\n",
    "sample_list = [f\"\" + dx + \".sample\" for dx in dxfuse_list]\n",
    "index_ps_list = [f\"file:///mnt/project\" + project_dir + \"index/\" + desc[\"name\"] + \".idx2\" for desc in out_describe]"
   ]
  },
  {
   "cell_type": "markdown",
   "id": "dac95d0f",
   "metadata": {},
   "source": [
    "Now we glue them together into a Pandas DataFrame, which we'll use to process all of the files. Note that if `testing == True`, then the notebook only processes the first 4 lines of the file manifest."
   ]
  },
  {
   "cell_type": "code",
   "execution_count": 3,
   "id": "3d2e3eb1-cb69-41d8-8c17-64bd07072afc",
   "metadata": {
    "tags": []
   },
   "outputs": [],
   "source": [
    "#glue everything into a Pandas DataFrame, which we'll use to process files\n",
    "manifest = pd.DataFrame({\"bgen\": bgen_list, \"sample\": sample_list,\"index\":index_list, \"hdfs\": hdfs_list, \"index_ps\":index_ps_list})  \n",
    "\n",
    "if(testing):\n",
    "    manifest = manifest.head(5)\n",
    "\n",
    "manifest = manifest.tail(-1)    \n",
    "    \n",
    "file_out = \"bgen_manifest.csv\"\n",
    "manifest.to_csv(file_out)\n"
   ]
  },
  {
   "cell_type": "markdown",
   "id": "2d788a64",
   "metadata": {},
   "source": [
    "Here's what the file manifest looks like."
   ]
  },
  {
   "cell_type": "code",
   "execution_count": 4,
   "id": "3ab3f709-83f9-44d4-ab00-4aa472fa4ccf",
   "metadata": {
    "tags": []
   },
   "outputs": [
    {
     "data": {
      "text/html": [
       "<div>\n",
       "<style scoped>\n",
       "    .dataframe tbody tr th:only-of-type {\n",
       "        vertical-align: middle;\n",
       "    }\n",
       "\n",
       "    .dataframe tbody tr th {\n",
       "        vertical-align: top;\n",
       "    }\n",
       "\n",
       "    .dataframe thead th {\n",
       "        text-align: right;\n",
       "    }\n",
       "</style>\n",
       "<table border=\"1\" class=\"dataframe\">\n",
       "  <thead>\n",
       "    <tr style=\"text-align: right;\">\n",
       "      <th></th>\n",
       "      <th>bgen</th>\n",
       "      <th>sample</th>\n",
       "      <th>index</th>\n",
       "      <th>hdfs</th>\n",
       "      <th>index_ps</th>\n",
       "    </tr>\n",
       "  </thead>\n",
       "  <tbody>\n",
       "    <tr>\n",
       "      <th>1</th>\n",
       "      <td>file:///mnt/project//Bulk/Exome sequences/Popu...</td>\n",
       "      <td>file:///mnt/project//Bulk/Exome sequences/Popu...</td>\n",
       "      <td>ukb23159_c11_b0_v1.bgen</td>\n",
       "      <td>hdfs:///index/ukb23159_c11_b0_v1.bgen.idx2</td>\n",
       "      <td>file:///mnt/project/user/tladeras/index/ukb231...</td>\n",
       "    </tr>\n",
       "    <tr>\n",
       "      <th>2</th>\n",
       "      <td>file:///mnt/project//Bulk/Exome sequences/Popu...</td>\n",
       "      <td>file:///mnt/project//Bulk/Exome sequences/Popu...</td>\n",
       "      <td>ukb23159_c1_b0_v1.bgen</td>\n",
       "      <td>hdfs:///index/ukb23159_c1_b0_v1.bgen.idx2</td>\n",
       "      <td>file:///mnt/project/user/tladeras/index/ukb231...</td>\n",
       "    </tr>\n",
       "    <tr>\n",
       "      <th>3</th>\n",
       "      <td>file:///mnt/project//Bulk/Exome sequences/Popu...</td>\n",
       "      <td>file:///mnt/project//Bulk/Exome sequences/Popu...</td>\n",
       "      <td>ukb23159_c4_b0_v1.bgen</td>\n",
       "      <td>hdfs:///index/ukb23159_c4_b0_v1.bgen.idx2</td>\n",
       "      <td>file:///mnt/project/user/tladeras/index/ukb231...</td>\n",
       "    </tr>\n",
       "    <tr>\n",
       "      <th>4</th>\n",
       "      <td>file:///mnt/project//Bulk/Exome sequences/Popu...</td>\n",
       "      <td>file:///mnt/project//Bulk/Exome sequences/Popu...</td>\n",
       "      <td>ukb23159_c16_b0_v1.bgen</td>\n",
       "      <td>hdfs:///index/ukb23159_c16_b0_v1.bgen.idx2</td>\n",
       "      <td>file:///mnt/project/user/tladeras/index/ukb231...</td>\n",
       "    </tr>\n",
       "  </tbody>\n",
       "</table>\n",
       "</div>"
      ],
      "text/plain": [
       "                                                bgen  \\\n",
       "1  file:///mnt/project//Bulk/Exome sequences/Popu...   \n",
       "2  file:///mnt/project//Bulk/Exome sequences/Popu...   \n",
       "3  file:///mnt/project//Bulk/Exome sequences/Popu...   \n",
       "4  file:///mnt/project//Bulk/Exome sequences/Popu...   \n",
       "\n",
       "                                              sample                    index  \\\n",
       "1  file:///mnt/project//Bulk/Exome sequences/Popu...  ukb23159_c11_b0_v1.bgen   \n",
       "2  file:///mnt/project//Bulk/Exome sequences/Popu...   ukb23159_c1_b0_v1.bgen   \n",
       "3  file:///mnt/project//Bulk/Exome sequences/Popu...   ukb23159_c4_b0_v1.bgen   \n",
       "4  file:///mnt/project//Bulk/Exome sequences/Popu...  ukb23159_c16_b0_v1.bgen   \n",
       "\n",
       "                                         hdfs  \\\n",
       "1  hdfs:///index/ukb23159_c11_b0_v1.bgen.idx2   \n",
       "2   hdfs:///index/ukb23159_c1_b0_v1.bgen.idx2   \n",
       "3   hdfs:///index/ukb23159_c4_b0_v1.bgen.idx2   \n",
       "4  hdfs:///index/ukb23159_c16_b0_v1.bgen.idx2   \n",
       "\n",
       "                                            index_ps  \n",
       "1  file:///mnt/project/user/tladeras/index/ukb231...  \n",
       "2  file:///mnt/project/user/tladeras/index/ukb231...  \n",
       "3  file:///mnt/project/user/tladeras/index/ukb231...  \n",
       "4  file:///mnt/project/user/tladeras/index/ukb231...  "
      ]
     },
     "execution_count": 4,
     "metadata": {},
     "output_type": "execute_result"
    }
   ],
   "source": [
    "manifest"
   ]
  },
  {
   "cell_type": "markdown",
   "id": "81a80183-c22d-4cef-b4f8-17800f539eb8",
   "metadata": {},
   "source": [
    "Now we index each of the files by cycling over each BGEN file. This is currently saved in HDFS. We suggest storing the file manifest and the index files in a project so the BGEN files can be loaded in easily on subsequent runs.\n",
    "\n",
    "Note the BGEN files are in genome build `GRCh37`. If you want to use them in build 38, the BGEN files will need to be lifted over to the new genome build."
   ]
  },
  {
   "cell_type": "code",
   "execution_count": 12,
   "id": "9ca6b78c-bc93-4a37-acb0-ccdcc15a67d1",
   "metadata": {
    "tags": []
   },
   "outputs": [
    {
     "name": "stderr",
     "output_type": "stream",
     "text": [
      "2023-05-02 22:04:49.521 Hail: INFO: Number of BGEN files indexed: 1             \n",
      "2023-05-02 22:05:54.098 Hail: INFO: Number of BGEN files indexed: 1             \n",
      "2023-05-02 22:06:21.773 Hail: INFO: Number of BGEN files indexed: 1             \n",
      "2023-05-02 22:06:49.945 Hail: INFO: Number of BGEN files indexed: 1             \n"
     ]
    }
   ],
   "source": [
    "for i, row in manifest.iterrows():\n",
    "    hl.index_bgen(path=row[\"bgen\"],\n",
    "                  index_file_map={row[\"bgen\"]:row[\"hdfs\"]},\n",
    "                  reference_genome=\"GRCh37\",\n",
    "                  contig_recoding=None,\n",
    "                  skip_invalid_loci=True)"
   ]
  },
  {
   "cell_type": "markdown",
   "id": "245fbe27",
   "metadata": {},
   "source": [
    "We can see the index files and their locations using `hdfs ds -ls`, which will list all of the files in `/index/`."
   ]
  },
  {
   "cell_type": "code",
   "execution_count": 19,
   "id": "6767c572-c09d-4718-9beb-16a6e6b46940",
   "metadata": {
    "tags": []
   },
   "outputs": [
    {
     "name": "stderr",
     "output_type": "stream",
     "text": [
      "SLF4J: Class path contains multiple SLF4J bindings.\n",
      "SLF4J: Found binding in [jar:file:/cluster/hadoop/share/hadoop/common/lib/log4j-slf4j-impl-2.17.2.jar!/org/slf4j/impl/StaticLoggerBinder.class]\n",
      "SLF4J: Found binding in [jar:file:/cluster/hadoop/share/hadoop/hdfs/lib/log4j-slf4j-impl-2.17.2.jar!/org/slf4j/impl/StaticLoggerBinder.class]\n",
      "SLF4J: See http://www.slf4j.org/codes.html#multiple_bindings for an explanation.\n",
      "SLF4J: Actual binding is of type [org.apache.logging.slf4j.Log4jLoggerFactory]\n"
     ]
    },
    {
     "name": "stdout",
     "output_type": "stream",
     "text": [
      "Found 4 items\n",
      "drwxr-xr-x   - root supergroup          0 2023-05-02 22:04 /index/ukb23159_c11_b0_v1.bgen.idx2\n",
      "drwxr-xr-x   - root supergroup          0 2023-05-02 22:06 /index/ukb23159_c16_b0_v1.bgen.idx2\n",
      "drwxr-xr-x   - root supergroup          0 2023-05-02 22:05 /index/ukb23159_c1_b0_v1.bgen.idx2\n",
      "drwxr-xr-x   - root supergroup          0 2023-05-02 22:06 /index/ukb23159_c4_b0_v1.bgen.idx2\n"
     ]
    }
   ],
   "source": [
    "%%bash\n",
    "\n",
    "hdfs dfs -ls /index/"
   ]
  },
  {
   "cell_type": "markdown",
   "id": "2cacfc0b",
   "metadata": {},
   "source": [
    "We should save these indexes into project storage."
   ]
  },
  {
   "cell_type": "code",
   "execution_count": 21,
   "id": "f5126af1-7c2a-4a63-9730-bd1a5ed33b7b",
   "metadata": {
    "tags": []
   },
   "outputs": [
    {
     "name": "stderr",
     "output_type": "stream",
     "text": [
      "SLF4J: Class path contains multiple SLF4J bindings.\n",
      "SLF4J: Found binding in [jar:file:/cluster/hadoop/share/hadoop/common/lib/log4j-slf4j-impl-2.17.2.jar!/org/slf4j/impl/StaticLoggerBinder.class]\n",
      "SLF4J: Found binding in [jar:file:/cluster/hadoop/share/hadoop/hdfs/lib/log4j-slf4j-impl-2.17.2.jar!/org/slf4j/impl/StaticLoggerBinder.class]\n",
      "SLF4J: See http://www.slf4j.org/codes.html#multiple_bindings for an explanation.\n",
      "SLF4J: Actual binding is of type [org.apache.logging.slf4j.Log4jLoggerFactory]\n"
     ]
    }
   ],
   "source": [
    "%%bash\n",
    "# download indexes to driver node\n",
    "hdfs dfs -get /index/ .\n"
   ]
  },
  {
   "cell_type": "code",
   "execution_count": 26,
   "id": "5fe8f562-8992-42ef-9aa2-cd106255c13c",
   "metadata": {
    "tags": []
   },
   "outputs": [],
   "source": [
    "%%bash\n",
    "# upload the indexes to project storage\n",
    "dx upload index/ -r --destination /user/tladeras/index/"
   ]
  },
  {
   "cell_type": "code",
   "execution_count": 39,
   "id": "af5ecc96-ddf1-447f-b176-39d7a8e8d00f",
   "metadata": {
    "tags": []
   },
   "outputs": [
    {
     "data": {
      "text/plain": [
       "'file:///mnt/project//Bulk/Exome sequences/Population level exome OQFE variants, BGEN format - final release/ukb23159_c11_b0_v1.sample'"
      ]
     },
     "execution_count": 39,
     "metadata": {},
     "output_type": "execute_result"
    }
   ],
   "source": [
    "file_list = manifest[\"bgen\"].tolist()\n",
    "file_list\n",
    "\n",
    "sample_list = manifest[\"sample\"].tolist()[0]\n",
    "sample_list"
   ]
  },
  {
   "cell_type": "code",
   "execution_count": 37,
   "id": "a6c17ed1-e6fd-47d0-a691-83e164815bf0",
   "metadata": {
    "tags": []
   },
   "outputs": [
    {
     "data": {
      "text/plain": [
       "{'file:///mnt/project//Bulk/Exome sequences/Population level exome OQFE variants, BGEN format - final release/ukb23159_c11_b0_v1.bgen': 'file:///mnt/project/user/tladeras/ukb23159_c11_b0_v1.bgen.idx2',\n",
       " 'file:///mnt/project//Bulk/Exome sequences/Population level exome OQFE variants, BGEN format - final release/ukb23159_c1_b0_v1.bgen': 'file:///mnt/project/user/tladeras/ukb23159_c1_b0_v1.bgen.idx2',\n",
       " 'file:///mnt/project//Bulk/Exome sequences/Population level exome OQFE variants, BGEN format - final release/ukb23159_c4_b0_v1.bgen': 'file:///mnt/project/user/tladeras/ukb23159_c4_b0_v1.bgen.idx2',\n",
       " 'file:///mnt/project//Bulk/Exome sequences/Population level exome OQFE variants, BGEN format - final release/ukb23159_c16_b0_v1.bgen': 'file:///mnt/project/user/tladeras/ukb23159_c16_b0_v1.bgen.idx2'}"
      ]
     },
     "execution_count": 37,
     "metadata": {},
     "output_type": "execute_result"
    }
   ],
   "source": [
    "map_dict = {f\"\" + row[\"bgen\"]:f\"\" + row[\"index_ps\"] for i, row in manifest.iterrows()}\n",
    "map_dict"
   ]
  },
  {
   "cell_type": "code",
   "execution_count": 40,
   "id": "4f0128b5-5fb1-41b9-945c-3e7aa555fe34",
   "metadata": {
    "tags": []
   },
   "outputs": [
    {
     "ename": "FatalError",
     "evalue": "HailException: The following BGEN files have no .idx2 index file. Use 'index_bgen' to create the index file once before calling 'import_bgen':\n  file:/mnt/project/Bulk/Exome sequences/Population level exome OQFE variants, BGEN format - final release/ukb23159_c11_b0_v1.bgen\n  file:/mnt/project/Bulk/Exome sequences/Population level exome OQFE variants, BGEN format - final release/ukb23159_c1_b0_v1.bgen\n  file:/mnt/project/Bulk/Exome sequences/Population level exome OQFE variants, BGEN format - final release/ukb23159_c4_b0_v1.bgen\n  file:/mnt/project/Bulk/Exome sequences/Population level exome OQFE variants, BGEN format - final release/ukb23159_c16_b0_v1.bgen)\n\nJava stack trace:\nis.hail.utils.HailException: The following BGEN files have no .idx2 index file. Use 'index_bgen' to create the index file once before calling 'import_bgen':\n  file:/mnt/project/Bulk/Exome sequences/Population level exome OQFE variants, BGEN format - final release/ukb23159_c11_b0_v1.bgen\n  file:/mnt/project/Bulk/Exome sequences/Population level exome OQFE variants, BGEN format - final release/ukb23159_c1_b0_v1.bgen\n  file:/mnt/project/Bulk/Exome sequences/Population level exome OQFE variants, BGEN format - final release/ukb23159_c4_b0_v1.bgen\n  file:/mnt/project/Bulk/Exome sequences/Population level exome OQFE variants, BGEN format - final release/ukb23159_c16_b0_v1.bgen)\n\tat is.hail.utils.ErrorHandling.fatal(ErrorHandling.scala:17)\n\tat is.hail.utils.ErrorHandling.fatal$(ErrorHandling.scala:17)\n\tat is.hail.utils.package$.fatal(package.scala:78)\n\tat is.hail.io.bgen.LoadBgen$.getIndexFiles(LoadBgen.scala:243)\n\tat is.hail.io.bgen.MatrixBGENReader$.apply(LoadBgen.scala:326)\n\tat is.hail.io.bgen.MatrixBGENReader$.fromJValue(LoadBgen.scala:308)\n\tat is.hail.expr.ir.MatrixReader$.fromJson(MatrixIR.scala:87)\n\tat is.hail.expr.ir.IRParser$.matrix_ir_1(Parser.scala:1827)\n\tat is.hail.expr.ir.IRParser$.$anonfun$matrix_ir$1(Parser.scala:1743)\n\tat is.hail.utils.StackSafe$More.advance(StackSafe.scala:64)\n\tat is.hail.utils.StackSafe$.run(StackSafe.scala:16)\n\tat is.hail.utils.StackSafe$StackFrame.run(StackSafe.scala:32)\n\tat is.hail.expr.ir.IRParser$.$anonfun$parse_matrix_ir$1(Parser.scala:2107)\n\tat is.hail.expr.ir.IRParser$.parse(Parser.scala:2092)\n\tat is.hail.expr.ir.IRParser$.parse_matrix_ir(Parser.scala:2107)\n\tat is.hail.backend.spark.SparkBackend.$anonfun$parse_matrix_ir$2(SparkBackend.scala:695)\n\tat is.hail.backend.ExecuteContext$.$anonfun$scoped$3(ExecuteContext.scala:70)\n\tat is.hail.utils.package$.using(package.scala:635)\n\tat is.hail.backend.ExecuteContext$.$anonfun$scoped$2(ExecuteContext.scala:70)\n\tat is.hail.utils.package$.using(package.scala:635)\n\tat is.hail.annotations.RegionPool$.scoped(RegionPool.scala:17)\n\tat is.hail.backend.ExecuteContext$.scoped(ExecuteContext.scala:59)\n\tat is.hail.backend.spark.SparkBackend.withExecuteContext(SparkBackend.scala:339)\n\tat is.hail.backend.spark.SparkBackend.$anonfun$parse_matrix_ir$1(SparkBackend.scala:694)\n\tat is.hail.utils.ExecutionTimer$.time(ExecutionTimer.scala:52)\n\tat is.hail.utils.ExecutionTimer$.logTime(ExecutionTimer.scala:59)\n\tat is.hail.backend.spark.SparkBackend.parse_matrix_ir(SparkBackend.scala:693)\n\tat sun.reflect.NativeMethodAccessorImpl.invoke0(Native Method)\n\tat sun.reflect.NativeMethodAccessorImpl.invoke(NativeMethodAccessorImpl.java:62)\n\tat sun.reflect.DelegatingMethodAccessorImpl.invoke(DelegatingMethodAccessorImpl.java:43)\n\tat java.lang.reflect.Method.invoke(Method.java:498)\n\tat py4j.reflection.MethodInvoker.invoke(MethodInvoker.java:244)\n\tat py4j.reflection.ReflectionEngine.invoke(ReflectionEngine.java:357)\n\tat py4j.Gateway.invoke(Gateway.java:282)\n\tat py4j.commands.AbstractCommand.invokeMethod(AbstractCommand.java:132)\n\tat py4j.commands.CallCommand.execute(CallCommand.java:79)\n\tat py4j.ClientServerConnection.waitForCommands(ClientServerConnection.java:182)\n\tat py4j.ClientServerConnection.run(ClientServerConnection.java:106)\n\tat java.lang.Thread.run(Thread.java:750)\n\n\n\nHail version: 0.2.108-48fb3a9bae04\nError summary: HailException: The following BGEN files have no .idx2 index file. Use 'index_bgen' to create the index file once before calling 'import_bgen':\n  file:/mnt/project/Bulk/Exome sequences/Population level exome OQFE variants, BGEN format - final release/ukb23159_c11_b0_v1.bgen\n  file:/mnt/project/Bulk/Exome sequences/Population level exome OQFE variants, BGEN format - final release/ukb23159_c1_b0_v1.bgen\n  file:/mnt/project/Bulk/Exome sequences/Population level exome OQFE variants, BGEN format - final release/ukb23159_c4_b0_v1.bgen\n  file:/mnt/project/Bulk/Exome sequences/Population level exome OQFE variants, BGEN format - final release/ukb23159_c16_b0_v1.bgen)",
     "output_type": "error",
     "traceback": [
      "\u001b[0;31m---------------------------------------------------------------------------\u001b[0m",
      "\u001b[0;31mFatalError\u001b[0m                                Traceback (most recent call last)",
      "Cell \u001b[0;32mIn[40], line 4\u001b[0m\n\u001b[1;32m      1\u001b[0m \u001b[38;5;66;03m#build index file dictionary    \u001b[39;00m\n\u001b[1;32m      2\u001b[0m \n\u001b[1;32m      3\u001b[0m \u001b[38;5;66;03m#finally, import all bgen files\u001b[39;00m\n\u001b[0;32m----> 4\u001b[0m mt \u001b[38;5;241m=\u001b[39m \u001b[43mhl\u001b[49m\u001b[38;5;241;43m.\u001b[39;49m\u001b[43mimport_bgen\u001b[49m\u001b[43m(\u001b[49m\u001b[43mfile_list\u001b[49m\u001b[43m,\u001b[49m\n\u001b[1;32m      5\u001b[0m \u001b[43m                    \u001b[49m\u001b[43mentry_fields\u001b[49m\u001b[38;5;241;43m=\u001b[39;49m\u001b[43m[\u001b[49m\u001b[38;5;124;43m'\u001b[39;49m\u001b[38;5;124;43mGT\u001b[39;49m\u001b[38;5;124;43m'\u001b[39;49m\u001b[43m,\u001b[49m\u001b[43m \u001b[49m\u001b[38;5;124;43m'\u001b[39;49m\u001b[38;5;124;43mGP\u001b[39;49m\u001b[38;5;124;43m'\u001b[39;49m\u001b[43m]\u001b[49m\u001b[43m,\u001b[49m\n\u001b[1;32m      6\u001b[0m \u001b[43m                    \u001b[49m\u001b[43msample_file\u001b[49m\u001b[43m \u001b[49m\u001b[38;5;241;43m=\u001b[39;49m\u001b[43m \u001b[49m\u001b[43msample_list\u001b[49m\u001b[43m,\u001b[49m\n\u001b[1;32m      7\u001b[0m \u001b[43m                    \u001b[49m\u001b[43mn_partitions\u001b[49m\u001b[38;5;241;43m=\u001b[39;49m\u001b[38;5;28;43;01mNone\u001b[39;49;00m\u001b[43m,\u001b[49m\n\u001b[1;32m      8\u001b[0m \u001b[43m                    \u001b[49m\u001b[43mblock_size\u001b[49m\u001b[38;5;241;43m=\u001b[39;49m\u001b[38;5;28;43;01mNone\u001b[39;49;00m\u001b[43m,\u001b[49m\n\u001b[1;32m      9\u001b[0m \u001b[43m                    \u001b[49m\u001b[43mvariants\u001b[49m\u001b[38;5;241;43m=\u001b[39;49m\u001b[38;5;28;43;01mNone\u001b[39;49;00m\u001b[43m,\u001b[49m\n\u001b[1;32m     10\u001b[0m \u001b[43m                    \u001b[49m\u001b[43mindex_file_map\u001b[49m\u001b[43m \u001b[49m\u001b[38;5;241;43m=\u001b[39;49m\u001b[43m \u001b[49m\u001b[43mmap_dict\u001b[49m\u001b[43m)\u001b[49m\n",
      "File \u001b[0;32m<decorator-gen-1422>:2\u001b[0m, in \u001b[0;36mimport_bgen\u001b[0;34m(path, entry_fields, sample_file, n_partitions, block_size, index_file_map, variants, _row_fields)\u001b[0m\n",
      "File \u001b[0;32m/usr/local/lib/python3.8/dist-packages/hail/typecheck/check.py:577\u001b[0m, in \u001b[0;36m_make_dec.<locals>.wrapper\u001b[0;34m(__original_func, *args, **kwargs)\u001b[0m\n\u001b[1;32m    574\u001b[0m \u001b[38;5;129m@decorator\u001b[39m\n\u001b[1;32m    575\u001b[0m \u001b[38;5;28;01mdef\u001b[39;00m \u001b[38;5;21mwrapper\u001b[39m(__original_func, \u001b[38;5;241m*\u001b[39margs, \u001b[38;5;241m*\u001b[39m\u001b[38;5;241m*\u001b[39mkwargs):\n\u001b[1;32m    576\u001b[0m     args_, kwargs_ \u001b[38;5;241m=\u001b[39m check_all(__original_func, args, kwargs, checkers, is_method\u001b[38;5;241m=\u001b[39mis_method)\n\u001b[0;32m--> 577\u001b[0m     \u001b[38;5;28;01mreturn\u001b[39;00m \u001b[43m__original_func\u001b[49m\u001b[43m(\u001b[49m\u001b[38;5;241;43m*\u001b[39;49m\u001b[43margs_\u001b[49m\u001b[43m,\u001b[49m\u001b[43m \u001b[49m\u001b[38;5;241;43m*\u001b[39;49m\u001b[38;5;241;43m*\u001b[39;49m\u001b[43mkwargs_\u001b[49m\u001b[43m)\u001b[49m\n",
      "File \u001b[0;32m/usr/local/lib/python3.8/dist-packages/hail/methods/impex.py:1217\u001b[0m, in \u001b[0;36mimport_bgen\u001b[0;34m(path, entry_fields, sample_file, n_partitions, block_size, index_file_map, variants, _row_fields)\u001b[0m\n\u001b[1;32m   1212\u001b[0m             \u001b[38;5;28;01mraise\u001b[39;00m \u001b[38;5;167;01mTypeError\u001b[39;00m(\n\u001b[1;32m   1213\u001b[0m                 \u001b[38;5;124mf\u001b[39m\u001b[38;5;124m\"\u001b[39m\u001b[38;5;124m'\u001b[39m\u001b[38;5;124mimport_bgen\u001b[39m\u001b[38;5;124m'\u001b[39m\u001b[38;5;124m requires all elements in \u001b[39m\u001b[38;5;124m'\u001b[39m\u001b[38;5;124mvariants\u001b[39m\u001b[38;5;124m'\u001b[39m\u001b[38;5;124m are a non-empty prefix of the BGEN key type: \u001b[39m\u001b[38;5;132;01m{\u001b[39;00m\u001b[38;5;28mrepr\u001b[39m(expected_vtype)\u001b[38;5;132;01m}\u001b[39;00m\u001b[38;5;124m\"\u001b[39m)\n\u001b[1;32m   1215\u001b[0m reader \u001b[38;5;241m=\u001b[39m ir\u001b[38;5;241m.\u001b[39mMatrixBGENReader(path, sample_file, index_file_map, n_partitions, block_size, variants)\n\u001b[0;32m-> 1217\u001b[0m mt \u001b[38;5;241m=\u001b[39m (\u001b[43mMatrixTable\u001b[49m\u001b[43m(\u001b[49m\u001b[43mir\u001b[49m\u001b[38;5;241;43m.\u001b[39;49m\u001b[43mMatrixRead\u001b[49m\u001b[43m(\u001b[49m\u001b[43mreader\u001b[49m\u001b[43m)\u001b[49m\u001b[43m)\u001b[49m\n\u001b[1;32m   1218\u001b[0m       \u001b[38;5;241m.\u001b[39mdrop(\u001b[38;5;241m*\u001b[39m[fd \u001b[38;5;28;01mfor\u001b[39;00m fd \u001b[38;5;129;01min\u001b[39;00m [\u001b[38;5;124m'\u001b[39m\u001b[38;5;124mGT\u001b[39m\u001b[38;5;124m'\u001b[39m, \u001b[38;5;124m'\u001b[39m\u001b[38;5;124mGP\u001b[39m\u001b[38;5;124m'\u001b[39m, \u001b[38;5;124m'\u001b[39m\u001b[38;5;124mdosage\u001b[39m\u001b[38;5;124m'\u001b[39m] \u001b[38;5;28;01mif\u001b[39;00m fd \u001b[38;5;129;01mnot\u001b[39;00m \u001b[38;5;129;01min\u001b[39;00m entry_set],\n\u001b[1;32m   1219\u001b[0m             \u001b[38;5;241m*\u001b[39m[fd \u001b[38;5;28;01mfor\u001b[39;00m fd \u001b[38;5;129;01min\u001b[39;00m [\u001b[38;5;124m'\u001b[39m\u001b[38;5;124mrsid\u001b[39m\u001b[38;5;124m'\u001b[39m, \u001b[38;5;124m'\u001b[39m\u001b[38;5;124mvarid\u001b[39m\u001b[38;5;124m'\u001b[39m, \u001b[38;5;124m'\u001b[39m\u001b[38;5;124moffset\u001b[39m\u001b[38;5;124m'\u001b[39m, \u001b[38;5;124m'\u001b[39m\u001b[38;5;124mfile_idx\u001b[39m\u001b[38;5;124m'\u001b[39m] \u001b[38;5;28;01mif\u001b[39;00m fd \u001b[38;5;129;01mnot\u001b[39;00m \u001b[38;5;129;01min\u001b[39;00m row_set]))\n\u001b[1;32m   1221\u001b[0m \u001b[38;5;28;01mreturn\u001b[39;00m mt\n",
      "File \u001b[0;32m/usr/local/lib/python3.8/dist-packages/hail/matrixtable.py:558\u001b[0m, in \u001b[0;36mMatrixTable.__init__\u001b[0;34m(self, mir)\u001b[0m\n\u001b[1;32m    555\u001b[0m \u001b[38;5;28mself\u001b[39m\u001b[38;5;241m.\u001b[39m_col_indices \u001b[38;5;241m=\u001b[39m Indices(\u001b[38;5;28mself\u001b[39m, {\u001b[38;5;28mself\u001b[39m\u001b[38;5;241m.\u001b[39m_col_axis})\n\u001b[1;32m    556\u001b[0m \u001b[38;5;28mself\u001b[39m\u001b[38;5;241m.\u001b[39m_entry_indices \u001b[38;5;241m=\u001b[39m Indices(\u001b[38;5;28mself\u001b[39m, {\u001b[38;5;28mself\u001b[39m\u001b[38;5;241m.\u001b[39m_row_axis, \u001b[38;5;28mself\u001b[39m\u001b[38;5;241m.\u001b[39m_col_axis})\n\u001b[0;32m--> 558\u001b[0m \u001b[38;5;28mself\u001b[39m\u001b[38;5;241m.\u001b[39m_type \u001b[38;5;241m=\u001b[39m \u001b[38;5;28;43mself\u001b[39;49m\u001b[38;5;241;43m.\u001b[39;49m\u001b[43m_mir\u001b[49m\u001b[38;5;241;43m.\u001b[39;49m\u001b[43mtyp\u001b[49m\n\u001b[1;32m    560\u001b[0m \u001b[38;5;28mself\u001b[39m\u001b[38;5;241m.\u001b[39m_global_type \u001b[38;5;241m=\u001b[39m \u001b[38;5;28mself\u001b[39m\u001b[38;5;241m.\u001b[39m_type\u001b[38;5;241m.\u001b[39mglobal_type\n\u001b[1;32m    561\u001b[0m \u001b[38;5;28mself\u001b[39m\u001b[38;5;241m.\u001b[39m_col_type \u001b[38;5;241m=\u001b[39m \u001b[38;5;28mself\u001b[39m\u001b[38;5;241m.\u001b[39m_type\u001b[38;5;241m.\u001b[39mcol_type\n",
      "File \u001b[0;32m/usr/local/lib/python3.8/dist-packages/hail/ir/base_ir.py:496\u001b[0m, in \u001b[0;36mMatrixIR.typ\u001b[0;34m(self)\u001b[0m\n\u001b[1;32m    493\u001b[0m \u001b[38;5;129m@property\u001b[39m\n\u001b[1;32m    494\u001b[0m \u001b[38;5;28;01mdef\u001b[39;00m \u001b[38;5;21mtyp\u001b[39m(\u001b[38;5;28mself\u001b[39m):\n\u001b[1;32m    495\u001b[0m     \u001b[38;5;28;01mif\u001b[39;00m \u001b[38;5;28mself\u001b[39m\u001b[38;5;241m.\u001b[39m_type \u001b[38;5;129;01mis\u001b[39;00m \u001b[38;5;28;01mNone\u001b[39;00m:\n\u001b[0;32m--> 496\u001b[0m         \u001b[38;5;28;43mself\u001b[39;49m\u001b[38;5;241;43m.\u001b[39;49m\u001b[43mcompute_type\u001b[49m\u001b[43m(\u001b[49m\u001b[43mdeep_typecheck\u001b[49m\u001b[38;5;241;43m=\u001b[39;49m\u001b[38;5;28;43;01mFalse\u001b[39;49;00m\u001b[43m)\u001b[49m\n\u001b[1;32m    497\u001b[0m     \u001b[38;5;28;01mreturn\u001b[39;00m \u001b[38;5;28mself\u001b[39m\u001b[38;5;241m.\u001b[39m_type\n",
      "File \u001b[0;32m/usr/local/lib/python3.8/dist-packages/hail/ir/base_ir.py:487\u001b[0m, in \u001b[0;36mMatrixIR.compute_type\u001b[0;34m(self, deep_typecheck)\u001b[0m\n\u001b[1;32m    485\u001b[0m \u001b[38;5;28;01mdef\u001b[39;00m \u001b[38;5;21mcompute_type\u001b[39m(\u001b[38;5;28mself\u001b[39m, deep_typecheck):\n\u001b[1;32m    486\u001b[0m     \u001b[38;5;28;01mif\u001b[39;00m deep_typecheck \u001b[38;5;129;01mor\u001b[39;00m \u001b[38;5;28mself\u001b[39m\u001b[38;5;241m.\u001b[39m_type \u001b[38;5;129;01mis\u001b[39;00m \u001b[38;5;28;01mNone\u001b[39;00m:\n\u001b[0;32m--> 487\u001b[0m         computed \u001b[38;5;241m=\u001b[39m \u001b[38;5;28;43mself\u001b[39;49m\u001b[38;5;241;43m.\u001b[39;49m\u001b[43m_compute_type\u001b[49m\u001b[43m(\u001b[49m\u001b[43mdeep_typecheck\u001b[49m\u001b[43m)\u001b[49m\n\u001b[1;32m    488\u001b[0m         \u001b[38;5;28;01mif\u001b[39;00m \u001b[38;5;28mself\u001b[39m\u001b[38;5;241m.\u001b[39m_type \u001b[38;5;129;01mis\u001b[39;00m \u001b[38;5;129;01mnot\u001b[39;00m \u001b[38;5;28;01mNone\u001b[39;00m:\n\u001b[1;32m    489\u001b[0m             \u001b[38;5;28;01massert\u001b[39;00m \u001b[38;5;28mself\u001b[39m\u001b[38;5;241m.\u001b[39m_type \u001b[38;5;241m==\u001b[39m computed\n",
      "File \u001b[0;32m/usr/local/lib/python3.8/dist-packages/hail/ir/matrix_ir.py:185\u001b[0m, in \u001b[0;36mMatrixRead._compute_type\u001b[0;34m(self, deep_typecheck)\u001b[0m\n\u001b[1;32m    183\u001b[0m \u001b[38;5;28;01mdef\u001b[39;00m \u001b[38;5;21m_compute_type\u001b[39m(\u001b[38;5;28mself\u001b[39m, deep_typecheck):\n\u001b[1;32m    184\u001b[0m     \u001b[38;5;28;01mif\u001b[39;00m \u001b[38;5;28mself\u001b[39m\u001b[38;5;241m.\u001b[39m_type \u001b[38;5;129;01mis\u001b[39;00m \u001b[38;5;28;01mNone\u001b[39;00m:\n\u001b[0;32m--> 185\u001b[0m         \u001b[38;5;28;01mreturn\u001b[39;00m \u001b[43mEnv\u001b[49m\u001b[38;5;241;43m.\u001b[39;49m\u001b[43mbackend\u001b[49m\u001b[43m(\u001b[49m\u001b[43m)\u001b[49m\u001b[38;5;241;43m.\u001b[39;49m\u001b[43mmatrix_type\u001b[49m\u001b[43m(\u001b[49m\u001b[38;5;28;43mself\u001b[39;49m\u001b[43m)\u001b[49m\n\u001b[1;32m    186\u001b[0m     \u001b[38;5;28;01melse\u001b[39;00m:\n\u001b[1;32m    187\u001b[0m         \u001b[38;5;28;01mreturn\u001b[39;00m \u001b[38;5;28mself\u001b[39m\u001b[38;5;241m.\u001b[39m_type\n",
      "File \u001b[0;32m/usr/local/lib/python3.8/dist-packages/hail/backend/spark_backend.py:300\u001b[0m, in \u001b[0;36mSparkBackend.matrix_type\u001b[0;34m(self, mir)\u001b[0m\n\u001b[1;32m    299\u001b[0m \u001b[38;5;28;01mdef\u001b[39;00m \u001b[38;5;21mmatrix_type\u001b[39m(\u001b[38;5;28mself\u001b[39m, mir):\n\u001b[0;32m--> 300\u001b[0m     jir \u001b[38;5;241m=\u001b[39m \u001b[38;5;28;43mself\u001b[39;49m\u001b[38;5;241;43m.\u001b[39;49m\u001b[43m_to_java_matrix_ir\u001b[49m\u001b[43m(\u001b[49m\u001b[43mmir\u001b[49m\u001b[43m)\u001b[49m\n\u001b[1;32m    301\u001b[0m     \u001b[38;5;28;01mreturn\u001b[39;00m tmatrix\u001b[38;5;241m.\u001b[39m_from_java(jir\u001b[38;5;241m.\u001b[39mtyp())\n",
      "File \u001b[0;32m/usr/local/lib/python3.8/dist-packages/hail/backend/spark_backend.py:286\u001b[0m, in \u001b[0;36mSparkBackend._to_java_matrix_ir\u001b[0;34m(self, ir)\u001b[0m\n\u001b[1;32m    285\u001b[0m \u001b[38;5;28;01mdef\u001b[39;00m \u001b[38;5;21m_to_java_matrix_ir\u001b[39m(\u001b[38;5;28mself\u001b[39m, ir):\n\u001b[0;32m--> 286\u001b[0m     \u001b[38;5;28;01mreturn\u001b[39;00m \u001b[38;5;28;43mself\u001b[39;49m\u001b[38;5;241;43m.\u001b[39;49m\u001b[43m_to_java_ir\u001b[49m\u001b[43m(\u001b[49m\u001b[43mir\u001b[49m\u001b[43m,\u001b[49m\u001b[43m \u001b[49m\u001b[38;5;28;43mself\u001b[39;49m\u001b[38;5;241;43m.\u001b[39;49m\u001b[43m_parse_matrix_ir\u001b[49m\u001b[43m)\u001b[49m\n",
      "File \u001b[0;32m/usr/local/lib/python3.8/dist-packages/hail/backend/spark_backend.py:276\u001b[0m, in \u001b[0;36mSparkBackend._to_java_ir\u001b[0;34m(self, ir, parse)\u001b[0m\n\u001b[1;32m    274\u001b[0m     r \u001b[38;5;241m=\u001b[39m CSERenderer(stop_at_jir\u001b[38;5;241m=\u001b[39m\u001b[38;5;28;01mTrue\u001b[39;00m)\n\u001b[1;32m    275\u001b[0m     \u001b[38;5;66;03m# FIXME parse should be static\u001b[39;00m\n\u001b[0;32m--> 276\u001b[0m     ir\u001b[38;5;241m.\u001b[39m_jir \u001b[38;5;241m=\u001b[39m \u001b[43mparse\u001b[49m\u001b[43m(\u001b[49m\u001b[43mr\u001b[49m\u001b[43m(\u001b[49m\u001b[43mfinalize_randomness\u001b[49m\u001b[43m(\u001b[49m\u001b[43mir\u001b[49m\u001b[43m)\u001b[49m\u001b[43m)\u001b[49m\u001b[43m,\u001b[49m\u001b[43m \u001b[49m\u001b[43mir_map\u001b[49m\u001b[38;5;241;43m=\u001b[39;49m\u001b[43mr\u001b[49m\u001b[38;5;241;43m.\u001b[39;49m\u001b[43mjirs\u001b[49m\u001b[43m)\u001b[49m\n\u001b[1;32m    277\u001b[0m \u001b[38;5;28;01mreturn\u001b[39;00m ir\u001b[38;5;241m.\u001b[39m_jir\n",
      "File \u001b[0;32m/usr/local/lib/python3.8/dist-packages/hail/backend/spark_backend.py:254\u001b[0m, in \u001b[0;36mSparkBackend._parse_matrix_ir\u001b[0;34m(self, code, ir_map)\u001b[0m\n\u001b[1;32m    253\u001b[0m \u001b[38;5;28;01mdef\u001b[39;00m \u001b[38;5;21m_parse_matrix_ir\u001b[39m(\u001b[38;5;28mself\u001b[39m, code, ir_map\u001b[38;5;241m=\u001b[39m{}):\n\u001b[0;32m--> 254\u001b[0m     \u001b[38;5;28;01mreturn\u001b[39;00m \u001b[38;5;28;43mself\u001b[39;49m\u001b[38;5;241;43m.\u001b[39;49m\u001b[43m_jbackend\u001b[49m\u001b[38;5;241;43m.\u001b[39;49m\u001b[43mparse_matrix_ir\u001b[49m\u001b[43m(\u001b[49m\u001b[43mcode\u001b[49m\u001b[43m,\u001b[49m\u001b[43m \u001b[49m\u001b[43mir_map\u001b[49m\u001b[43m)\u001b[49m\n",
      "File \u001b[0;32m/cluster/spark/python/lib/py4j-0.10.9.2-src.zip/py4j/java_gateway.py:1309\u001b[0m, in \u001b[0;36mJavaMember.__call__\u001b[0;34m(self, *args)\u001b[0m\n\u001b[1;32m   1303\u001b[0m command \u001b[38;5;241m=\u001b[39m proto\u001b[38;5;241m.\u001b[39mCALL_COMMAND_NAME \u001b[38;5;241m+\u001b[39m\\\n\u001b[1;32m   1304\u001b[0m     \u001b[38;5;28mself\u001b[39m\u001b[38;5;241m.\u001b[39mcommand_header \u001b[38;5;241m+\u001b[39m\\\n\u001b[1;32m   1305\u001b[0m     args_command \u001b[38;5;241m+\u001b[39m\\\n\u001b[1;32m   1306\u001b[0m     proto\u001b[38;5;241m.\u001b[39mEND_COMMAND_PART\n\u001b[1;32m   1308\u001b[0m answer \u001b[38;5;241m=\u001b[39m \u001b[38;5;28mself\u001b[39m\u001b[38;5;241m.\u001b[39mgateway_client\u001b[38;5;241m.\u001b[39msend_command(command)\n\u001b[0;32m-> 1309\u001b[0m return_value \u001b[38;5;241m=\u001b[39m \u001b[43mget_return_value\u001b[49m\u001b[43m(\u001b[49m\n\u001b[1;32m   1310\u001b[0m \u001b[43m    \u001b[49m\u001b[43manswer\u001b[49m\u001b[43m,\u001b[49m\u001b[43m \u001b[49m\u001b[38;5;28;43mself\u001b[39;49m\u001b[38;5;241;43m.\u001b[39;49m\u001b[43mgateway_client\u001b[49m\u001b[43m,\u001b[49m\u001b[43m \u001b[49m\u001b[38;5;28;43mself\u001b[39;49m\u001b[38;5;241;43m.\u001b[39;49m\u001b[43mtarget_id\u001b[49m\u001b[43m,\u001b[49m\u001b[43m \u001b[49m\u001b[38;5;28;43mself\u001b[39;49m\u001b[38;5;241;43m.\u001b[39;49m\u001b[43mname\u001b[49m\u001b[43m)\u001b[49m\n\u001b[1;32m   1312\u001b[0m \u001b[38;5;28;01mfor\u001b[39;00m temp_arg \u001b[38;5;129;01min\u001b[39;00m temp_args:\n\u001b[1;32m   1313\u001b[0m     temp_arg\u001b[38;5;241m.\u001b[39m_detach()\n",
      "File \u001b[0;32m/usr/local/lib/python3.8/dist-packages/hail/backend/py4j_backend.py:31\u001b[0m, in \u001b[0;36mhandle_java_exception.<locals>.deco\u001b[0;34m(*args, **kwargs)\u001b[0m\n\u001b[1;32m     29\u001b[0m     tpl \u001b[38;5;241m=\u001b[39m Env\u001b[38;5;241m.\u001b[39mjutils()\u001b[38;5;241m.\u001b[39mhandleForPython(e\u001b[38;5;241m.\u001b[39mjava_exception)\n\u001b[1;32m     30\u001b[0m     deepest, full, error_id \u001b[38;5;241m=\u001b[39m tpl\u001b[38;5;241m.\u001b[39m_1(), tpl\u001b[38;5;241m.\u001b[39m_2(), tpl\u001b[38;5;241m.\u001b[39m_3()\n\u001b[0;32m---> 31\u001b[0m     \u001b[38;5;28;01mraise\u001b[39;00m fatal_error_from_java_error_triplet(deepest, full, error_id) \u001b[38;5;28;01mfrom\u001b[39;00m \u001b[38;5;28mNone\u001b[39m\n\u001b[1;32m     32\u001b[0m \u001b[38;5;28;01mexcept\u001b[39;00m pyspark\u001b[38;5;241m.\u001b[39msql\u001b[38;5;241m.\u001b[39mutils\u001b[38;5;241m.\u001b[39mCapturedException \u001b[38;5;28;01mas\u001b[39;00m e:\n\u001b[1;32m     33\u001b[0m     \u001b[38;5;28;01mraise\u001b[39;00m FatalError(\u001b[38;5;124m'\u001b[39m\u001b[38;5;132;01m%s\u001b[39;00m\u001b[38;5;130;01m\\n\u001b[39;00m\u001b[38;5;130;01m\\n\u001b[39;00m\u001b[38;5;124mJava stack trace:\u001b[39m\u001b[38;5;130;01m\\n\u001b[39;00m\u001b[38;5;132;01m%s\u001b[39;00m\u001b[38;5;130;01m\\n\u001b[39;00m\u001b[38;5;124m'\u001b[39m\n\u001b[1;32m     34\u001b[0m                      \u001b[38;5;124m'\u001b[39m\u001b[38;5;124mHail version: \u001b[39m\u001b[38;5;132;01m%s\u001b[39;00m\u001b[38;5;130;01m\\n\u001b[39;00m\u001b[38;5;124m'\u001b[39m\n\u001b[1;32m     35\u001b[0m                      \u001b[38;5;124m'\u001b[39m\u001b[38;5;124mError summary: \u001b[39m\u001b[38;5;132;01m%s\u001b[39;00m\u001b[38;5;124m'\u001b[39m \u001b[38;5;241m%\u001b[39m (e\u001b[38;5;241m.\u001b[39mdesc, e\u001b[38;5;241m.\u001b[39mstackTrace, hail\u001b[38;5;241m.\u001b[39m__version__, e\u001b[38;5;241m.\u001b[39mdesc)) \u001b[38;5;28;01mfrom\u001b[39;00m \u001b[38;5;28mNone\u001b[39m\n",
      "\u001b[0;31mFatalError\u001b[0m: HailException: The following BGEN files have no .idx2 index file. Use 'index_bgen' to create the index file once before calling 'import_bgen':\n  file:/mnt/project/Bulk/Exome sequences/Population level exome OQFE variants, BGEN format - final release/ukb23159_c11_b0_v1.bgen\n  file:/mnt/project/Bulk/Exome sequences/Population level exome OQFE variants, BGEN format - final release/ukb23159_c1_b0_v1.bgen\n  file:/mnt/project/Bulk/Exome sequences/Population level exome OQFE variants, BGEN format - final release/ukb23159_c4_b0_v1.bgen\n  file:/mnt/project/Bulk/Exome sequences/Population level exome OQFE variants, BGEN format - final release/ukb23159_c16_b0_v1.bgen)\n\nJava stack trace:\nis.hail.utils.HailException: The following BGEN files have no .idx2 index file. Use 'index_bgen' to create the index file once before calling 'import_bgen':\n  file:/mnt/project/Bulk/Exome sequences/Population level exome OQFE variants, BGEN format - final release/ukb23159_c11_b0_v1.bgen\n  file:/mnt/project/Bulk/Exome sequences/Population level exome OQFE variants, BGEN format - final release/ukb23159_c1_b0_v1.bgen\n  file:/mnt/project/Bulk/Exome sequences/Population level exome OQFE variants, BGEN format - final release/ukb23159_c4_b0_v1.bgen\n  file:/mnt/project/Bulk/Exome sequences/Population level exome OQFE variants, BGEN format - final release/ukb23159_c16_b0_v1.bgen)\n\tat is.hail.utils.ErrorHandling.fatal(ErrorHandling.scala:17)\n\tat is.hail.utils.ErrorHandling.fatal$(ErrorHandling.scala:17)\n\tat is.hail.utils.package$.fatal(package.scala:78)\n\tat is.hail.io.bgen.LoadBgen$.getIndexFiles(LoadBgen.scala:243)\n\tat is.hail.io.bgen.MatrixBGENReader$.apply(LoadBgen.scala:326)\n\tat is.hail.io.bgen.MatrixBGENReader$.fromJValue(LoadBgen.scala:308)\n\tat is.hail.expr.ir.MatrixReader$.fromJson(MatrixIR.scala:87)\n\tat is.hail.expr.ir.IRParser$.matrix_ir_1(Parser.scala:1827)\n\tat is.hail.expr.ir.IRParser$.$anonfun$matrix_ir$1(Parser.scala:1743)\n\tat is.hail.utils.StackSafe$More.advance(StackSafe.scala:64)\n\tat is.hail.utils.StackSafe$.run(StackSafe.scala:16)\n\tat is.hail.utils.StackSafe$StackFrame.run(StackSafe.scala:32)\n\tat is.hail.expr.ir.IRParser$.$anonfun$parse_matrix_ir$1(Parser.scala:2107)\n\tat is.hail.expr.ir.IRParser$.parse(Parser.scala:2092)\n\tat is.hail.expr.ir.IRParser$.parse_matrix_ir(Parser.scala:2107)\n\tat is.hail.backend.spark.SparkBackend.$anonfun$parse_matrix_ir$2(SparkBackend.scala:695)\n\tat is.hail.backend.ExecuteContext$.$anonfun$scoped$3(ExecuteContext.scala:70)\n\tat is.hail.utils.package$.using(package.scala:635)\n\tat is.hail.backend.ExecuteContext$.$anonfun$scoped$2(ExecuteContext.scala:70)\n\tat is.hail.utils.package$.using(package.scala:635)\n\tat is.hail.annotations.RegionPool$.scoped(RegionPool.scala:17)\n\tat is.hail.backend.ExecuteContext$.scoped(ExecuteContext.scala:59)\n\tat is.hail.backend.spark.SparkBackend.withExecuteContext(SparkBackend.scala:339)\n\tat is.hail.backend.spark.SparkBackend.$anonfun$parse_matrix_ir$1(SparkBackend.scala:694)\n\tat is.hail.utils.ExecutionTimer$.time(ExecutionTimer.scala:52)\n\tat is.hail.utils.ExecutionTimer$.logTime(ExecutionTimer.scala:59)\n\tat is.hail.backend.spark.SparkBackend.parse_matrix_ir(SparkBackend.scala:693)\n\tat sun.reflect.NativeMethodAccessorImpl.invoke0(Native Method)\n\tat sun.reflect.NativeMethodAccessorImpl.invoke(NativeMethodAccessorImpl.java:62)\n\tat sun.reflect.DelegatingMethodAccessorImpl.invoke(DelegatingMethodAccessorImpl.java:43)\n\tat java.lang.reflect.Method.invoke(Method.java:498)\n\tat py4j.reflection.MethodInvoker.invoke(MethodInvoker.java:244)\n\tat py4j.reflection.ReflectionEngine.invoke(ReflectionEngine.java:357)\n\tat py4j.Gateway.invoke(Gateway.java:282)\n\tat py4j.commands.AbstractCommand.invokeMethod(AbstractCommand.java:132)\n\tat py4j.commands.CallCommand.execute(CallCommand.java:79)\n\tat py4j.ClientServerConnection.waitForCommands(ClientServerConnection.java:182)\n\tat py4j.ClientServerConnection.run(ClientServerConnection.java:106)\n\tat java.lang.Thread.run(Thread.java:750)\n\n\n\nHail version: 0.2.108-48fb3a9bae04\nError summary: HailException: The following BGEN files have no .idx2 index file. Use 'index_bgen' to create the index file once before calling 'import_bgen':\n  file:/mnt/project/Bulk/Exome sequences/Population level exome OQFE variants, BGEN format - final release/ukb23159_c11_b0_v1.bgen\n  file:/mnt/project/Bulk/Exome sequences/Population level exome OQFE variants, BGEN format - final release/ukb23159_c1_b0_v1.bgen\n  file:/mnt/project/Bulk/Exome sequences/Population level exome OQFE variants, BGEN format - final release/ukb23159_c4_b0_v1.bgen\n  file:/mnt/project/Bulk/Exome sequences/Population level exome OQFE variants, BGEN format - final release/ukb23159_c16_b0_v1.bgen)"
     ]
    }
   ],
   "source": [
    "#build index file dictionary    \n",
    "\n",
    "#finally, import all bgen files\n",
    "mt = hl.import_bgen(file_list,\n",
    "                    entry_fields=['GT', 'GP'],\n",
    "                    sample_file = sample_list,\n",
    "                    n_partitions=None,\n",
    "                    block_size=None,\n",
    "                    variants=None,\n",
    "                    index_file_map = map_dict)"
   ]
  },
  {
   "cell_type": "code",
   "execution_count": 30,
   "id": "cb74bf4c-1770-4eea-a15d-a27d9756af4e",
   "metadata": {
    "tags": []
   },
   "outputs": [
    {
     "data": {
      "text/plain": [
       "(6666112, 469835)"
      ]
     },
     "execution_count": 30,
     "metadata": {},
     "output_type": "execute_result"
    }
   ],
   "source": [
    "mt.count()"
   ]
  },
  {
   "cell_type": "code",
   "execution_count": null,
   "id": "e585fad8-60d6-4962-9456-cf3b1d82aa1e",
   "metadata": {},
   "outputs": [],
   "source": []
  }
 ],
 "metadata": {
  "kernelspec": {
   "display_name": "Python 3 (ipykernel)",
   "language": "python",
   "name": "python3"
  },
  "language_info": {
   "codemirror_mode": {
    "name": "ipython",
    "version": 3
   },
   "file_extension": ".py",
   "mimetype": "text/x-python",
   "name": "python",
   "nbconvert_exporter": "python",
   "pygments_lexer": "ipython3",
   "version": "3.8.10"
  }
 },
 "nbformat": 4,
 "nbformat_minor": 5
}
